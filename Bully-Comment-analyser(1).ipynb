{
 "cells": [
  {
   "cell_type": "code",
   "execution_count": 3,
   "id": "b1cbb0c2",
   "metadata": {},
   "outputs": [],
   "source": [
    "# importing necessary libraries\n",
    "import numpy as np\n",
    "import pandas as pd\n",
    "import matplotlib.pyplot as plt\n",
    "import string\n",
    "import streamlit\n",
    "import warnings\n",
    "warnings.filterwarnings('ignore')\n",
    "# Import label encoder\n",
    "from sklearn.preprocessing import LabelEncoder\n",
    "from sklearn.model_selection import train_test_split\n",
    "from sklearn.feature_extraction.text import CountVectorizer, TfidfVectorizer\n",
    "from sklearn.metrics import confusion_matrix, accuracy_score, classification_report "
   ]
  },
  {
   "cell_type": "code",
   "execution_count": 4,
   "id": "113d9c63",
   "metadata": {},
   "outputs": [
    {
     "name": "stdout",
     "output_type": "stream",
     "text": [
      "Shape of the dataset: (2000, 2)\n"
     ]
    }
   ],
   "source": [
    "# 1. Data Collection \n",
    "df = pd.read_csv('Data.csv')\n",
    "df.head(10)\n",
    "print(\"Shape of the dataset:\", df.shape)"
   ]
  },
  {
   "cell_type": "code",
   "execution_count": 5,
   "id": "d6db4a6b",
   "metadata": {},
   "outputs": [
    {
     "data": {
      "text/html": [
       "<div>\n",
       "<style scoped>\n",
       "    .dataframe tbody tr th:only-of-type {\n",
       "        vertical-align: middle;\n",
       "    }\n",
       "\n",
       "    .dataframe tbody tr th {\n",
       "        vertical-align: top;\n",
       "    }\n",
       "\n",
       "    .dataframe thead th {\n",
       "        text-align: right;\n",
       "    }\n",
       "</style>\n",
       "<table border=\"1\" class=\"dataframe\">\n",
       "  <thead>\n",
       "    <tr style=\"text-align: right;\">\n",
       "      <th></th>\n",
       "      <th>Comments</th>\n",
       "      <th>Classes</th>\n",
       "    </tr>\n",
       "  </thead>\n",
       "  <tbody>\n",
       "    <tr>\n",
       "      <th>1263</th>\n",
       "      <td>your a gay cunt Mikee</td>\n",
       "      <td>B</td>\n",
       "    </tr>\n",
       "    <tr>\n",
       "      <th>1706</th>\n",
       "      <td>I'm not afraid to hit a girl. In fact, I plan ...</td>\n",
       "      <td>B</td>\n",
       "    </tr>\n",
       "    <tr>\n",
       "      <th>73</th>\n",
       "      <td>Are you sitting down Ok Ready for this is offi...</td>\n",
       "      <td>NB</td>\n",
       "    </tr>\n",
       "    <tr>\n",
       "      <th>797</th>\n",
       "      <td>she is so beautiful hope you are ok qq</td>\n",
       "      <td>NB</td>\n",
       "    </tr>\n",
       "    <tr>\n",
       "      <th>580</th>\n",
       "      <td>Lick it now like it good like this pussy just ...</td>\n",
       "      <td>B</td>\n",
       "    </tr>\n",
       "  </tbody>\n",
       "</table>\n",
       "</div>"
      ],
      "text/plain": [
       "                                               Comments Classes\n",
       "1263                              your a gay cunt Mikee       B\n",
       "1706  I'm not afraid to hit a girl. In fact, I plan ...       B\n",
       "73    Are you sitting down Ok Ready for this is offi...      NB\n",
       "797              she is so beautiful hope you are ok qq      NB\n",
       "580   Lick it now like it good like this pussy just ...       B"
      ]
     },
     "execution_count": 5,
     "metadata": {},
     "output_type": "execute_result"
    }
   ],
   "source": [
    "df.sample(5)"
   ]
  },
  {
   "cell_type": "code",
   "execution_count": 6,
   "id": "e8dfba97",
   "metadata": {},
   "outputs": [
    {
     "name": "stdout",
     "output_type": "stream",
     "text": [
      "Total number of duplicated comments: 9\n",
      "Duplicated Comments in the dataset:\n",
      "Shape of reviews_data_non_duplicated: (1991, 2)\n",
      "Number of Null/NaN values in dataset column:\n"
     ]
    }
   ],
   "source": [
    "# Check for duplicated comments and remove them\n",
    "duplicated_comments = df.duplicated(subset=['Comments'])\n",
    "print(\"Total number of duplicated comments:\", sum(duplicated_comments))\n",
    "print(\"Duplicated Comments in the dataset:\")\n",
    "df[duplicated_comments]\n",
    "reviews_data_non_duplicated = df.drop_duplicates(subset=['Comments'], keep='first')\n",
    "print(\"Shape of reviews_data_non_duplicated:\", reviews_data_non_duplicated.shape)\n",
    "\n",
    "print(\"Number of Null/NaN values in dataset column:\")\n",
    "reviews_data_cleaned = reviews_data_non_duplicated.dropna()"
   ]
  },
  {
   "cell_type": "code",
   "execution_count": 7,
   "id": "24f731f7",
   "metadata": {},
   "outputs": [
    {
     "name": "stdout",
     "output_type": "stream",
     "text": [
      "Unique values in 'Classes' column: ['NB' 'B']\n",
      "First Five user_reviews:\n",
      " 0    a commodity we trade is beet pulp so i asked a...\n",
      "2    a never opens all the way until he she is comp...\n",
      "3    a porn star who thinks she is better than an e...\n",
      "4    about and how sweet she is to every single per...\n",
      "5    about and how sweet she is to every single per...\n",
      "Name: Comments, dtype: object \n",
      "\n",
      "First Five reviews_classes:\n",
      "    Classes_Labels\n",
      "0               0\n",
      "2               0\n",
      "3               0\n",
      "4               0\n",
      "5               0\n",
      "Shape of the user_reviews: (1982,)\n",
      "Shape of the reviews_classes: (1982, 1)\n"
     ]
    }
   ],
   "source": [
    "def remove_punctuation(txt):\n",
    "    txt_nopunct = \"\".join([char for char in txt if char not in string.punctuation])\n",
    "    return txt_nopunct\n",
    "\n",
    "reviews_data_cleaned['Comments'] = reviews_data_cleaned['Comments'].apply(lambda x: remove_punctuation(x))\n",
    "\n",
    "def remove_digits(txt):\n",
    "    txt_nodigit = \"\".join([char for char in txt if not char.isdigit()])\n",
    "    return txt_nodigit\n",
    "\n",
    "reviews_data_cleaned['Comments'] = reviews_data_cleaned['Comments'].apply(lambda x: remove_digits(x))\n",
    "\n",
    "reviews_data_cleaned['Comments'] = reviews_data_cleaned['Comments'].str.lower()\n",
    "\n",
    "print(\"Unique values in 'Classes' column:\", reviews_data_cleaned['Classes'].unique())\n",
    "\n",
    "classes_labels = {'NB': 0, 'B': 1}\n",
    "\n",
    "reviews_data_cleaned['Classes_Labels'] = reviews_data_cleaned['Classes'].map(classes_labels)\n",
    "\n",
    "user_reviews = reviews_data_cleaned['Comments']\n",
    "reviews_classes = reviews_data_cleaned[['Classes_Labels']]\n",
    "\n",
    "print(\"First Five user_reviews:\\n\", user_reviews.head(), \"\\n\")\n",
    "print(\"First Five reviews_classes:\\n\", reviews_classes.head())\n",
    "\n",
    "print(\"Shape of the user_reviews:\", user_reviews.shape)\n",
    "print(\"Shape of the reviews_classes:\", reviews_classes.shape)\n"
   ]
  },
  {
   "cell_type": "code",
   "execution_count": 8,
   "id": "721efe01",
   "metadata": {},
   "outputs": [],
   "source": [
    "train_review, test_review, train_label, test_label = train_test_split(user_reviews, reviews_classes, \n",
    "                                                                      test_size=0.30, \n",
    "                                                                      random_state=42)\n"
   ]
  },
  {
   "cell_type": "code",
   "execution_count": 9,
   "id": "c8294f42",
   "metadata": {},
   "outputs": [
    {
     "name": "stdout",
     "output_type": "stream",
     "text": [
      "Shape of train_review and train_label: (1387,) (1387, 1)\n",
      "Shape of test_review and test_label: (595,) (595, 1)\n",
      "First five train reviews and their labels:\n",
      "287     i was almost giving up but i wont please look ...\n",
      "1806         sassy girls you arent sassy more like bitchy\n",
      "723     remember who you are and what she is shes wrot...\n",
      "1433    every time you text me my cheeks hurt i guess ...\n",
      "783     she is nearly home one more day and steffy ret...\n",
      "Name: Comments, dtype: object\n",
      "      Classes_Labels\n",
      "287                0\n",
      "1806               1\n",
      "723                0\n",
      "1433               0\n",
      "783                0\n",
      "Shape of Train_review_vectors: (1387, 3456)\n",
      "Shape of test_review_vectors: (595, 3456)\n",
      "Performance Evaluation of Multinomial Naive Bayes (MNB) Algorithm:\n",
      "Confusion Matrix:\n",
      " [[353   4]\n",
      " [105 133]]\n",
      "Accuracy: 81.68067226890756\n",
      "Classification Report:\n",
      "               precision    recall  f1-score   support\n",
      "\n",
      "          NB       0.77      0.99      0.87       357\n",
      "           B       0.97      0.56      0.71       238\n",
      "\n",
      "    accuracy                           0.82       595\n",
      "   macro avg       0.87      0.77      0.79       595\n",
      "weighted avg       0.85      0.82      0.80       595\n",
      "\n"
     ]
    }
   ],
   "source": [
    "print(\"Shape of train_review and train_label:\", train_review.shape, train_label.shape)\n",
    "print(\"Shape of test_review and test_label:\", test_review.shape, test_label.shape)\n",
    "\n",
    "print(\"First five train reviews and their labels:\")\n",
    "print(train_review[:5])\n",
    "print(train_label[:5])\n",
    "\n",
    "tfidf_vectorizer = TfidfVectorizer()\n",
    "\n",
    "train_review_vectors = tfidf_vectorizer.fit_transform(train_review)\n",
    "print(\"Shape of Train_review_vectors:\", train_review_vectors.shape)\n",
    "\n",
    "test_review_vectors = tfidf_vectorizer.transform(test_review)\n",
    "print(\"Shape of test_review_vectors:\", test_review_vectors.shape)\n",
    "#----------------------------------------------------------------------\n",
    "from sklearn.naive_bayes import MultinomialNB\n",
    "multi_nb_clf = MultinomialNB()\n",
    "multi_nb_clf.fit(train_review_vectors, train_label.values.ravel())\n",
    "predictions_multi_nb_clf = multi_nb_clf.predict(test_review_vectors)\n",
    "\n",
    "print(\"Performance Evaluation of Multinomial Naive Bayes (MNB) Algorithm:\")\n",
    "print(\"Confusion Matrix:\\n\", confusion_matrix(test_label, predictions_multi_nb_clf))\n",
    "multi_nb_clf_acc = accuracy_score(test_label, predictions_multi_nb_clf) * 100.0\n",
    "print(\"Accuracy:\", multi_nb_clf_acc)\n",
    "\n",
    "print(\"Classification Report:\\n\", \n",
    "      classification_report(test_label, predictions_multi_nb_clf, target_names=[\"NB\", \"B\"]))\n",
    "cm1 = confusion_matrix(test_label, predictions_multi_nb_clf)\n"
   ]
  },
  {
   "cell_type": "code",
   "execution_count": 10,
   "id": "8cc6ffbd",
   "metadata": {},
   "outputs": [
    {
     "data": {
      "image/png": "[encoded data removed]",
      "text/plain": [
       "<Figure size 640x480 with 2 Axes>"
      ]
     },
     "metadata": {},
     "output_type": "display_data"
    }
   ],
   "source": [
    "import seaborn as sns\n",
    "\n",
    "sns.heatmap(cm1, annot=True, cmap='plasma',\n",
    "            linecolor='black', linewidths=1)\n",
    "plt.show()"
   ]
  },
  {
   "cell_type": "code",
   "execution_count": 11,
   "id": "3cb800df",
   "metadata": {},
   "outputs": [
    {
     "name": "stdout",
     "output_type": "stream",
     "text": [
      "Performance Evaluation of GaussianNB (GNB) Algorithm:\n",
      "Confusion Matrix:\n",
      " [[228 129]\n",
      " [ 66 172]]\n",
      "Accuracy: 67.22689075630252\n",
      "Classification Report:\n",
      "               precision    recall  f1-score   support\n",
      "\n",
      "          NB       0.78      0.64      0.70       357\n",
      "           B       0.57      0.72      0.64       238\n",
      "\n",
      "    accuracy                           0.67       595\n",
      "   macro avg       0.67      0.68      0.67       595\n",
      "weighted avg       0.69      0.67      0.68       595\n",
      "\n"
     ]
    },
    {
     "data": {
      "image/png": "[encoded data removed]",
      "text/plain": [
       "<Figure size 640x480 with 2 Axes>"
      ]
     },
     "metadata": {},
     "output_type": "display_data"
    }
   ],
   "source": [
    "from sklearn.naive_bayes import GaussianNB\n",
    "gau_nb_clf = GaussianNB()\n",
    "gau_nb_clf.fit(train_review_vectors.toarray(), train_label.values.ravel())\n",
    "predictions_gau_nb_clf = gau_nb_clf.predict(test_review_vectors.toarray())\n",
    "\n",
    "# Performance Evaluation of GaussianNB (GNB)\n",
    "print(\"Performance Evaluation of GaussianNB (GNB) Algorithm:\")\n",
    "print(\"Confusion Matrix:\\n\", confusion_matrix(test_label, predictions_gau_nb_clf))\n",
    "\n",
    "gau_nb_clf_acc = accuracy_score(test_label, predictions_gau_nb_clf) * 100.0\n",
    "\n",
    "print(\"Accuracy:\", gau_nb_clf_acc)\n",
    "\n",
    "print(\"Classification Report:\\n\", \n",
    "      classification_report(test_label, predictions_gau_nb_clf, target_names=[\"NB\", \"B\"]))\n",
    "cm1 = confusion_matrix(test_label, predictions_gau_nb_clf)\n",
    "sns.heatmap(cm1, annot=True, cmap='plasma',\n",
    "            linecolor='black', linewidths=1)\n",
    "plt.show()\n"
   ]
  },
  {
   "cell_type": "code",
   "execution_count": 12,
   "id": "93c6b4f7",
   "metadata": {},
   "outputs": [
    {
     "name": "stdout",
     "output_type": "stream",
     "text": [
      "Performance Evaluation of Decision Tree Algorithm:\n",
      "Confusion Matrix:\n",
      " [[315  42]\n",
      " [ 53 185]]\n",
      "Accuracy: 84.03361344537815\n",
      "Classification Report:\n",
      "               precision    recall  f1-score   support\n",
      "\n",
      "          NB       0.86      0.88      0.87       357\n",
      "           B       0.81      0.78      0.80       238\n",
      "\n",
      "    accuracy                           0.84       595\n",
      "   macro avg       0.84      0.83      0.83       595\n",
      "weighted avg       0.84      0.84      0.84       595\n",
      "\n"
     ]
    },
    {
     "data": {
      "image/png": "[encoded data removed]",
      "text/plain": [
       "<Figure size 640x480 with 2 Axes>"
      ]
     },
     "metadata": {},
     "output_type": "display_data"
    }
   ],
   "source": [
    "from sklearn.tree import DecisionTreeClassifier\n",
    "dec_tree_clf = DecisionTreeClassifier()\n",
    "dec_tree_clf.fit(train_review_vectors, train_label.values.ravel())\n",
    "predictions_dec_tree_clf = dec_tree_clf.predict(test_review_vectors)\n",
    "\n",
    "print(\"Performance Evaluation of Decision Tree Algorithm:\")\n",
    "print(\"Confusion Matrix:\\n\", confusion_matrix(test_label, predictions_dec_tree_clf))\n",
    "\n",
    "dec_tree_clf_acc = accuracy_score(test_label, predictions_dec_tree_clf) * 100.0\n",
    "\n",
    "print(\"Accuracy:\", dec_tree_clf_acc)\n",
    "\n",
    "print(\"Classification Report:\\n\", \n",
    "      classification_report(test_label, predictions_dec_tree_clf, target_names=[\"NB\", \"B\"]))\n",
    "cm1 = confusion_matrix(test_label, predictions_dec_tree_clf)\n",
    "sns.heatmap(cm1, annot=True, cmap='plasma',\n",
    "            linecolor='black', linewidths=1)\n",
    "plt.show()"
   ]
  },
  {
   "cell_type": "code",
   "execution_count": 13,
   "id": "ed3ada23",
   "metadata": {},
   "outputs": [
    {
     "name": "stdout",
     "output_type": "stream",
     "text": [
      "Performance Evaluation of Random Forest (RF) Algorithm:\n",
      "Confusion Matrix:\n",
      " [[321  36]\n",
      " [ 24 214]]\n",
      "Accuracy: 89.91596638655463\n",
      "Classification Report:\n",
      "               precision    recall  f1-score   support\n",
      "\n",
      "          NB       0.93      0.90      0.91       357\n",
      "           B       0.86      0.90      0.88       238\n",
      "\n",
      "    accuracy                           0.90       595\n",
      "   macro avg       0.89      0.90      0.90       595\n",
      "weighted avg       0.90      0.90      0.90       595\n",
      "\n"
     ]
    },
    {
     "data": {
      "image/png": "[encoded data removed]",
      "text/plain": [
       "<Figure size 640x480 with 2 Axes>"
      ]
     },
     "metadata": {},
     "output_type": "display_data"
    }
   ],
   "source": [
    "from sklearn.ensemble import RandomForestClassifier\n",
    "rand_for_clf = RandomForestClassifier(n_estimators=200)\n",
    "rand_for_clf.fit(train_review_vectors, train_label.values.ravel())\n",
    "predictions_rand_for_clf = rand_for_clf.predict(test_review_vectors)\n",
    "print(\"Performance Evaluation of Random Forest (RF) Algorithm:\")\n",
    "print(\"Confusion Matrix:\\n\", confusion_matrix(test_label, predictions_rand_for_clf))\n",
    "\n",
    "rand_for_clf_acc = accuracy_score(test_label, predictions_rand_for_clf) * 100.0\n",
    "\n",
    "print(\"Accuracy:\", rand_for_clf_acc)\n",
    "\n",
    "print(\"Classification Report:\\n\", \n",
    "      classification_report(test_label, predictions_rand_for_clf, target_names=[\"NB\", \"B\"]))\n",
    "cm1 = confusion_matrix(test_label, predictions_rand_for_clf)\n",
    "sns.heatmap(cm1, annot=True, cmap='plasma',\n",
    "            linecolor='black', linewidths=1)\n",
    "plt.show()"
   ]
  },
  {
   "cell_type": "code",
   "execution_count": 14,
   "id": "80497aac",
   "metadata": {},
   "outputs": [
    {
     "name": "stdout",
     "output_type": "stream",
     "text": [
      "Performance Evaluation of XGBOOST Algorithm:\n",
      "Confusion Matrix:\n",
      " [[318  39]\n",
      " [ 33 205]]\n",
      "Accuracy: 87.89915966386555\n",
      "Classification Report:\n",
      "               precision    recall  f1-score   support\n",
      "\n",
      "          NB       0.91      0.89      0.90       357\n",
      "           B       0.84      0.86      0.85       238\n",
      "\n",
      "    accuracy                           0.88       595\n",
      "   macro avg       0.87      0.88      0.87       595\n",
      "weighted avg       0.88      0.88      0.88       595\n",
      "\n"
     ]
    },
    {
     "data": {
      "image/png": "[encoded data removed]",
      "text/plain": [
       "<Figure size 640x480 with 2 Axes>"
      ]
     },
     "metadata": {},
     "output_type": "display_data"
    }
   ],
   "source": [
    "import xgboost as xgb\n",
    "my_model = xgb.XGBClassifier()\n",
    "my_model.fit(train_review_vectors, train_label.values.ravel())\n",
    "predictions_rand_for_clf = my_model.predict(test_review_vectors)\n",
    "print(\"Performance Evaluation of XGBOOST Algorithm:\")\n",
    "print(\"Confusion Matrix:\\n\", confusion_matrix(test_label, predictions_rand_for_clf))\n",
    "\n",
    "randXGB_for_clf_acc = accuracy_score(test_label, predictions_rand_for_clf) * 100.0\n",
    "\n",
    "print(\"Accuracy:\", randXGB_for_clf_acc)\n",
    "\n",
    "print(\"Classification Report:\\n\", \n",
    "      classification_report(test_label, predictions_rand_for_clf, target_names=[\"NB\", \"B\"]))\n",
    "cm1 = confusion_matrix(test_label, predictions_rand_for_clf)\n",
    "sns.heatmap(cm1, annot=True, cmap='plasma',\n",
    "            linecolor='black', linewidths=1)\n",
    "plt.show()\n"
   ]
  },
  {
   "cell_type": "code",
   "execution_count": 15,
   "id": "fee335fb",
   "metadata": {},
   "outputs": [
    {
     "name": "stdout",
     "output_type": "stream",
     "text": [
      "Overall Accuracy of all classification algorithms:\n",
      "\n"
     ]
    },
    {
     "data": {
      "image/png": "[encoded data removed]",
      "text/plain": [
       "<Figure size 640x480 with 1 Axes>"
      ]
     },
     "metadata": {},
     "output_type": "display_data"
    }
   ],
   "source": [
    "# Combining all algorithm accuracies in one table.\n",
    "all_algos_result = {\n",
    "    'Multinomial NB Accuracy': multi_nb_clf_acc,\n",
    "    'Gaussian NB Accuracy': gau_nb_clf_acc,\n",
    "    'Decision Tree Accuracy': dec_tree_clf_acc,\n",
    "    'Random Forest Accuracy': rand_for_clf_acc,\n",
    "    'Xgboost Forest Accuracy': randXGB_for_clf_acc\n",
    "}\n",
    "print(\"Overall Accuracy of all classification algorithms:\\n\")\n",
    "all_algos_result\n",
    "\n",
    "# Display bar chart\n",
    "plt.bar(['MNB'], [multi_nb_clf_acc], color=\"#6d8a74\", width=0.5)\n",
    "plt.bar(['GNB'], [gau_nb_clf_acc], color=\"#47606d\", width=0.5)\n",
    "plt.bar(['DT'], [dec_tree_clf_acc], color=\"#615b49\", width=0.5)\n",
    "plt.bar(['RFT'], [rand_for_clf_acc], color=\"#6a5270\", width=0.5)\n",
    "plt.bar(['XGB'], [randXGB_for_clf_acc], color=\"#6a5270\", width=0.5)\n",
    "\n",
    "plt.xlabel(\"ML Algorithm\")\n",
    "plt.ylabel(\"Accuracy_score\")\n",
    "plt.title(\"Overall Accuracy of all classification algorithms\")\n",
    "plt.show()"
   ]
  },
  {
   "cell_type": "code",
   "execution_count": 16,
   "id": "e4b17281",
   "metadata": {},
   "outputs": [
    {
     "name": "stdout",
     "output_type": "stream",
     "text": [
      "Requirement already satisfied: xgboost in c:\\users\\hrida\\anaconda3\\lib\\site-packages (2.0.0)\n",
      "Requirement already satisfied: numpy in c:\\users\\hrida\\anaconda3\\lib\\site-packages (from xgboost) (1.24.3)\n",
      "Requirement already satisfied: scipy in c:\\users\\hrida\\anaconda3\\lib\\site-packages (from xgboost) (1.11.1)\n",
      "Note: you may need to restart the kernel to use updated packages.\n"
     ]
    }
   ],
   "source": [
    "pip install xgboost"
   ]
  },
  {
   "cell_type": "code",
   "execution_count": 21,
   "id": "1254a866",
   "metadata": {},
   "outputs": [],
   "source": [
    "import pickle\n",
    "\n",
    "pickle.dump(df,open('df.pkl','wb'))"
   ]
  },
  {
   "cell_type": "code",
   "execution_count": 19,
   "id": "f1b729ca",
   "metadata": {},
   "outputs": [
    {
     "data": {
      "text/html": [
       "<div>\n",
       "<style scoped>\n",
       "    .dataframe tbody tr th:only-of-type {\n",
       "        vertical-align: middle;\n",
       "    }\n",
       "\n",
       "    .dataframe tbody tr th {\n",
       "        vertical-align: top;\n",
       "    }\n",
       "\n",
       "    .dataframe thead th {\n",
       "        text-align: right;\n",
       "    }\n",
       "</style>\n",
       "<table border=\"1\" class=\"dataframe\">\n",
       "  <thead>\n",
       "    <tr style=\"text-align: right;\">\n",
       "      <th></th>\n",
       "      <th>Comments</th>\n",
       "      <th>Classes</th>\n",
       "    </tr>\n",
       "  </thead>\n",
       "  <tbody>\n",
       "    <tr>\n",
       "      <th>0</th>\n",
       "      <td>123A commodity we trade is beet pulp so I aske...</td>\n",
       "      <td>NB</td>\n",
       "    </tr>\n",
       "    <tr>\n",
       "      <th>1</th>\n",
       "      <td>NaN</td>\n",
       "      <td>NB</td>\n",
       "    </tr>\n",
       "    <tr>\n",
       "      <th>2</th>\n",
       "      <td>A never opens all the way until he she is comp...</td>\n",
       "      <td>NB</td>\n",
       "    </tr>\n",
       "    <tr>\n",
       "      <th>3</th>\n",
       "      <td>A porn star who thinks she is better than an e...</td>\n",
       "      <td>NB</td>\n",
       "    </tr>\n",
       "    <tr>\n",
       "      <th>4</th>\n",
       "      <td>about and how sweet she is to every single per...</td>\n",
       "      <td>NB</td>\n",
       "    </tr>\n",
       "    <tr>\n",
       "      <th>...</th>\n",
       "      <td>...</td>\n",
       "      <td>...</td>\n",
       "    </tr>\n",
       "    <tr>\n",
       "      <th>1995</th>\n",
       "      <td>She was already linked. She doesn't care.</td>\n",
       "      <td>NB</td>\n",
       "    </tr>\n",
       "    <tr>\n",
       "      <th>1996</th>\n",
       "      <td>It seems that she doesn't care about facts.</td>\n",
       "      <td>NB</td>\n",
       "    </tr>\n",
       "    <tr>\n",
       "      <th>1997</th>\n",
       "      <td>That girl is hideous in every way.</td>\n",
       "      <td>B</td>\n",
       "    </tr>\n",
       "    <tr>\n",
       "      <th>1998</th>\n",
       "      <td>I appreciate you bringing good content to me, ...</td>\n",
       "      <td>NB</td>\n",
       "    </tr>\n",
       "    <tr>\n",
       "      <th>1999</th>\n",
       "      <td>Was your previous praise tactical or just misp...</td>\n",
       "      <td>NB</td>\n",
       "    </tr>\n",
       "  </tbody>\n",
       "</table>\n",
       "<p>2000 rows × 2 columns</p>\n",
       "</div>"
      ],
      "text/plain": [
       "                                               Comments Classes\n",
       "0     123A commodity we trade is beet pulp so I aske...      NB\n",
       "1                                                   NaN      NB\n",
       "2     A never opens all the way until he she is comp...      NB\n",
       "3     A porn star who thinks she is better than an e...      NB\n",
       "4     about and how sweet she is to every single per...      NB\n",
       "...                                                 ...     ...\n",
       "1995          She was already linked. She doesn't care.      NB\n",
       "1996        It seems that she doesn't care about facts.      NB\n",
       "1997                 That girl is hideous in every way.       B\n",
       "1998  I appreciate you bringing good content to me, ...      NB\n",
       "1999  Was your previous praise tactical or just misp...      NB\n",
       "\n",
       "[2000 rows x 2 columns]"
      ]
     },
     "execution_count": 19,
     "metadata": {},
     "output_type": "execute_result"
    }
   ],
   "source": [
    "df"
   ]
  },
  {
   "cell_type": "code",
   "execution_count": null,
   "id": "2491b0bb",
   "metadata": {
    "scrolled": false
   },
   "outputs": [],
   "source": []
  },
  {
   "cell_type": "code",
   "execution_count": null,
   "id": "4671cd76",
   "metadata": {},
   "outputs": [],
   "source": []
  },
  {
   "cell_type": "code",
   "execution_count": null,
   "id": "838e832a",
   "metadata": {},
   "outputs": [],
   "source": []
  },
  {
   "cell_type": "code",
   "execution_count": null,
   "id": "db5f980b",
   "metadata": {},
   "outputs": [],
   "source": []
  }
 ],
 "metadata": {
  "kernelspec": {
   "display_name": "Python 3 (ipykernel)",
   "language": "python",
   "name": "python3"
  },
  "language_info": {
   "codemirror_mode": {
    "name": "ipython",
    "version": 3
   },
   "file_extension": ".py",
   "mimetype": "text/x-python",
   "name": "python",
   "nbconvert_exporter": "python",
   "pygments_lexer": "ipython3",
   "version": "3.11.5"
  }
 },
 "nbformat": 4,
 "nbformat_minor": 5
}
